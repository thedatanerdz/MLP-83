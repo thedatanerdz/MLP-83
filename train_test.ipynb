{
  "nbformat": 4,
  "nbformat_minor": 0,
  "metadata": {
    "colab": {
      "provenance": []
    },
    "kernelspec": {
      "name": "python3",
      "display_name": "Python 3"
    },
    "language_info": {
      "name": "python"
    }
  },
  "cells": [
    {
      "cell_type": "code",
      "execution_count": null,
      "metadata": {
        "id": "23Geb3JT5smH"
      },
      "outputs": [],
      "source": [
        "import pandas as pd\n",
        "\n",
        "#display full sentence\n",
        "pd.set_option('display.max_columns', None)  \n",
        "pd.set_option('display.max_rows', None)  \n",
        "pd.set_option('display.max_colwidth', None)  \n"
      ]
    },
    {
      "cell_type": "code",
      "source": [
        "df=pd.read_csv('https://raw.githubusercontent.com/talhaanwarch/Offensive-Language-Detection/master/Data/olid-training-v1.0.tsv',sep='\\t')\n",
        "df.head()"
      ],
      "metadata": {
        "colab": {
          "base_uri": "https://localhost:8080/",
          "height": 389
        },
        "id": "hmhXjwQY9vhg",
        "outputId": "39d2d742-1d8f-4e09-ac32-e338bd5119ae"
      },
      "execution_count": null,
      "outputs": [
        {
          "output_type": "execute_result",
          "data": {
            "text/plain": [
              "      id  \\\n",
              "0  86426   \n",
              "1  90194   \n",
              "2  16820   \n",
              "3  62688   \n",
              "4  43605   \n",
              "\n",
              "                                                                                                                                                                                    tweet  \\\n",
              "0                                                                                                                 @USER She should ask a few native Americans what their take on this is.   \n",
              "1                                                                                                                     @USER @USER Go home you’re drunk!!! @USER #MAGA #Trump2020 👊🇺🇸👊 URL   \n",
              "2  Amazon is investigating Chinese employees who are selling internal data to third-party sellers looking for an edge in the competitive marketplace. URL #Amazon #MAGA #KAG #CHINA #TCOT   \n",
              "3                                                                                                                       @USER Someone should'veTaken\" this piece of shit to a volcano. 😂\"   \n",
              "4                                                                                                                @USER @USER Obama wanted liberals &amp; illegals to move into red states   \n",
              "\n",
              "  subtask_a subtask_b subtask_c  \n",
              "0       OFF       UNT       NaN  \n",
              "1       OFF       TIN       IND  \n",
              "2       NOT       NaN       NaN  \n",
              "3       OFF       UNT       NaN  \n",
              "4       NOT       NaN       NaN  "
            ],
            "text/html": [
              "\n",
              "  <div id=\"df-7391eea5-c1aa-415a-938a-e2f7c47e8571\">\n",
              "    <div class=\"colab-df-container\">\n",
              "      <div>\n",
              "<style scoped>\n",
              "    .dataframe tbody tr th:only-of-type {\n",
              "        vertical-align: middle;\n",
              "    }\n",
              "\n",
              "    .dataframe tbody tr th {\n",
              "        vertical-align: top;\n",
              "    }\n",
              "\n",
              "    .dataframe thead th {\n",
              "        text-align: right;\n",
              "    }\n",
              "</style>\n",
              "<table border=\"1\" class=\"dataframe\">\n",
              "  <thead>\n",
              "    <tr style=\"text-align: right;\">\n",
              "      <th></th>\n",
              "      <th>id</th>\n",
              "      <th>tweet</th>\n",
              "      <th>subtask_a</th>\n",
              "      <th>subtask_b</th>\n",
              "      <th>subtask_c</th>\n",
              "    </tr>\n",
              "  </thead>\n",
              "  <tbody>\n",
              "    <tr>\n",
              "      <th>0</th>\n",
              "      <td>86426</td>\n",
              "      <td>@USER She should ask a few native Americans what their take on this is.</td>\n",
              "      <td>OFF</td>\n",
              "      <td>UNT</td>\n",
              "      <td>NaN</td>\n",
              "    </tr>\n",
              "    <tr>\n",
              "      <th>1</th>\n",
              "      <td>90194</td>\n",
              "      <td>@USER @USER Go home you’re drunk!!! @USER #MAGA #Trump2020 👊🇺🇸👊 URL</td>\n",
              "      <td>OFF</td>\n",
              "      <td>TIN</td>\n",
              "      <td>IND</td>\n",
              "    </tr>\n",
              "    <tr>\n",
              "      <th>2</th>\n",
              "      <td>16820</td>\n",
              "      <td>Amazon is investigating Chinese employees who are selling internal data to third-party sellers looking for an edge in the competitive marketplace. URL #Amazon #MAGA #KAG #CHINA #TCOT</td>\n",
              "      <td>NOT</td>\n",
              "      <td>NaN</td>\n",
              "      <td>NaN</td>\n",
              "    </tr>\n",
              "    <tr>\n",
              "      <th>3</th>\n",
              "      <td>62688</td>\n",
              "      <td>@USER Someone should'veTaken\" this piece of shit to a volcano. 😂\"</td>\n",
              "      <td>OFF</td>\n",
              "      <td>UNT</td>\n",
              "      <td>NaN</td>\n",
              "    </tr>\n",
              "    <tr>\n",
              "      <th>4</th>\n",
              "      <td>43605</td>\n",
              "      <td>@USER @USER Obama wanted liberals &amp;amp; illegals to move into red states</td>\n",
              "      <td>NOT</td>\n",
              "      <td>NaN</td>\n",
              "      <td>NaN</td>\n",
              "    </tr>\n",
              "  </tbody>\n",
              "</table>\n",
              "</div>\n",
              "      <button class=\"colab-df-convert\" onclick=\"convertToInteractive('df-7391eea5-c1aa-415a-938a-e2f7c47e8571')\"\n",
              "              title=\"Convert this dataframe to an interactive table.\"\n",
              "              style=\"display:none;\">\n",
              "        \n",
              "  <svg xmlns=\"http://www.w3.org/2000/svg\" height=\"24px\"viewBox=\"0 0 24 24\"\n",
              "       width=\"24px\">\n",
              "    <path d=\"M0 0h24v24H0V0z\" fill=\"none\"/>\n",
              "    <path d=\"M18.56 5.44l.94 2.06.94-2.06 2.06-.94-2.06-.94-.94-2.06-.94 2.06-2.06.94zm-11 1L8.5 8.5l.94-2.06 2.06-.94-2.06-.94L8.5 2.5l-.94 2.06-2.06.94zm10 10l.94 2.06.94-2.06 2.06-.94-2.06-.94-.94-2.06-.94 2.06-2.06.94z\"/><path d=\"M17.41 7.96l-1.37-1.37c-.4-.4-.92-.59-1.43-.59-.52 0-1.04.2-1.43.59L10.3 9.45l-7.72 7.72c-.78.78-.78 2.05 0 2.83L4 21.41c.39.39.9.59 1.41.59.51 0 1.02-.2 1.41-.59l7.78-7.78 2.81-2.81c.8-.78.8-2.07 0-2.86zM5.41 20L4 18.59l7.72-7.72 1.47 1.35L5.41 20z\"/>\n",
              "  </svg>\n",
              "      </button>\n",
              "      \n",
              "  <style>\n",
              "    .colab-df-container {\n",
              "      display:flex;\n",
              "      flex-wrap:wrap;\n",
              "      gap: 12px;\n",
              "    }\n",
              "\n",
              "    .colab-df-convert {\n",
              "      background-color: #E8F0FE;\n",
              "      border: none;\n",
              "      border-radius: 50%;\n",
              "      cursor: pointer;\n",
              "      display: none;\n",
              "      fill: #1967D2;\n",
              "      height: 32px;\n",
              "      padding: 0 0 0 0;\n",
              "      width: 32px;\n",
              "    }\n",
              "\n",
              "    .colab-df-convert:hover {\n",
              "      background-color: #E2EBFA;\n",
              "      box-shadow: 0px 1px 2px rgba(60, 64, 67, 0.3), 0px 1px 3px 1px rgba(60, 64, 67, 0.15);\n",
              "      fill: #174EA6;\n",
              "    }\n",
              "\n",
              "    [theme=dark] .colab-df-convert {\n",
              "      background-color: #3B4455;\n",
              "      fill: #D2E3FC;\n",
              "    }\n",
              "\n",
              "    [theme=dark] .colab-df-convert:hover {\n",
              "      background-color: #434B5C;\n",
              "      box-shadow: 0px 1px 3px 1px rgba(0, 0, 0, 0.15);\n",
              "      filter: drop-shadow(0px 1px 2px rgba(0, 0, 0, 0.3));\n",
              "      fill: #FFFFFF;\n",
              "    }\n",
              "  </style>\n",
              "\n",
              "      <script>\n",
              "        const buttonEl =\n",
              "          document.querySelector('#df-7391eea5-c1aa-415a-938a-e2f7c47e8571 button.colab-df-convert');\n",
              "        buttonEl.style.display =\n",
              "          google.colab.kernel.accessAllowed ? 'block' : 'none';\n",
              "\n",
              "        async function convertToInteractive(key) {\n",
              "          const element = document.querySelector('#df-7391eea5-c1aa-415a-938a-e2f7c47e8571');\n",
              "          const dataTable =\n",
              "            await google.colab.kernel.invokeFunction('convertToInteractive',\n",
              "                                                     [key], {});\n",
              "          if (!dataTable) return;\n",
              "\n",
              "          const docLinkHtml = 'Like what you see? Visit the ' +\n",
              "            '<a target=\"_blank\" href=https://colab.research.google.com/notebooks/data_table.ipynb>data table notebook</a>'\n",
              "            + ' to learn more about interactive tables.';\n",
              "          element.innerHTML = '';\n",
              "          dataTable['output_type'] = 'display_data';\n",
              "          await google.colab.output.renderOutput(dataTable, element);\n",
              "          const docLink = document.createElement('div');\n",
              "          docLink.innerHTML = docLinkHtml;\n",
              "          element.appendChild(docLink);\n",
              "        }\n",
              "      </script>\n",
              "    </div>\n",
              "  </div>\n",
              "  "
            ]
          },
          "metadata": {},
          "execution_count": 3
        }
      ]
    },
    {
      "cell_type": "code",
      "source": [
        "df=df[['tweet','subtask_a']]\n",
        "df.columns=['tweet','label']"
      ],
      "metadata": {
        "id": "qn0dWPdJ6cF9"
      },
      "execution_count": null,
      "outputs": []
    },
    {
      "cell_type": "markdown",
      "source": [
        "# split the data"
      ],
      "metadata": {
        "id": "T43ZL9Zc-Q2g"
      }
    },
    {
      "cell_type": "code",
      "source": [
        "from sklearn.model_selection import train_test_split\n",
        "train_df,test_df=train_test_split(df,test_size=0.2)"
      ],
      "metadata": {
        "id": "n9UcIkZ9-Vl_"
      },
      "execution_count": null,
      "outputs": []
    },
    {
      "cell_type": "markdown",
      "source": [
        "# Preprocess the data"
      ],
      "metadata": {
        "id": "pgjWdHXY-FoF"
      }
    },
    {
      "cell_type": "code",
      "source": [
        "import nltk\n",
        "from nltk.corpus import stopwords\n",
        "from nltk.stem import WordNetLemmatizer\n",
        "nltk.download('wordnet')\n",
        "nltk.download('stopwords')\n",
        "\n",
        "lemmatizer = WordNetLemmatizer()\n",
        "w_tokenizer = nltk.tokenize.WhitespaceTokenizer()\n",
        "stop = stopwords.words('english')\n",
        "nltk.download('omw-1.4')"
      ],
      "metadata": {
        "colab": {
          "base_uri": "https://localhost:8080/"
        },
        "id": "vrVaV6n953eQ",
        "outputId": "837529ce-fc8f-407b-e742-20ab2703075c"
      },
      "execution_count": null,
      "outputs": [
        {
          "output_type": "stream",
          "name": "stderr",
          "text": [
            "[nltk_data] Downloading package wordnet to /root/nltk_data...\n",
            "[nltk_data] Downloading package stopwords to /root/nltk_data...\n",
            "[nltk_data]   Unzipping corpora/stopwords.zip.\n",
            "[nltk_data] Downloading package omw-1.4 to /root/nltk_data...\n"
          ]
        },
        {
          "output_type": "execute_result",
          "data": {
            "text/plain": [
              "True"
            ]
          },
          "metadata": {},
          "execution_count": 6
        }
      ]
    },
    {
      "cell_type": "code",
      "source": [
        "import string\n",
        "def preprocess(df):\n",
        "  df[\"tweet\"]= df[\"tweet\"].str.lower()\n",
        "  df['tweet']=df['tweet'].str.replace('\\d+', '')#remove digits\n",
        "  #remove @user\n",
        "  df['tweet']=df['tweet'].str.replace('@user','')\n",
        "  #remove url\n",
        "  df[\"tweet\"] = df[\"tweet\"].str.replace('http[s]?://(?:[a-zA-Z]|[0-9]|[$-_@.&+]|'\n",
        "          '[!*\\(\\),]|(?:%[0-9a-fA-F][0-9a-fA-F]))+','')\n",
        "\n",
        "  #remove punctuations\n",
        "  df[\"tweet\"] = df[\"tweet\"].apply(lambda x:x.translate(str.maketrans('', '', string.punctuation)))\n",
        "\n",
        "  df[\"tweet\"] = df[\"tweet\"].str.replace('[^\\w\\s]','')\n",
        "\n",
        "  #lemmatize\n",
        "  df[\"tweet\"] = df[\"tweet\"].apply(lambda x : [lemmatizer.lemmatize(y) for y in w_tokenizer.tokenize(x)])\n",
        "  #remove stop words\n",
        "  df[\"tweet\"] = df[\"tweet\"].apply(lambda x: [item for item in x if item not in stop])\n",
        "  #convert list to string\n",
        "  df[\"tweet\"] = df[\"tweet\"].apply(lambda x : \" \".join(x))\n",
        "  return df"
      ],
      "metadata": {
        "id": "NnpN6_wE6YxB"
      },
      "execution_count": null,
      "outputs": []
    },
    {
      "cell_type": "code",
      "source": [
        "train_df=preprocess(train_df)\n",
        "test_df=preprocess(test_df)\n",
        "\n",
        "train_df.head()"
      ],
      "metadata": {
        "colab": {
          "base_uri": "https://localhost:8080/",
          "height": 427
        },
        "id": "glM0kZye8-pw",
        "outputId": "4d7c630d-24c4-490b-c0ac-5080a948aaf0"
      },
      "execution_count": null,
      "outputs": [
        {
          "output_type": "stream",
          "name": "stderr",
          "text": [
            "/usr/local/lib/python3.7/dist-packages/ipykernel_launcher.py:4: FutureWarning: The default value of regex will change from True to False in a future version.\n",
            "  after removing the cwd from sys.path.\n",
            "/usr/local/lib/python3.7/dist-packages/ipykernel_launcher.py:9: FutureWarning: The default value of regex will change from True to False in a future version.\n",
            "  if __name__ == '__main__':\n",
            "/usr/local/lib/python3.7/dist-packages/ipykernel_launcher.py:14: FutureWarning: The default value of regex will change from True to False in a future version.\n",
            "  \n"
          ]
        },
        {
          "output_type": "execute_result",
          "data": {
            "text/plain": [
              "                                                                                                                                                                               tweet  \\\n",
              "9187   political zealotry amp tribalism new religion america ha problem contributing iturl partisanship tcot conservative conservative gop democrat progressive liberal think reason   \n",
              "5602                                                                                                                           moore got elected liberal never learn unlikable trump   \n",
              "11520                                                                                                                            gun safety reform exactly doe mean mean gun control   \n",
              "3110                                                                                                                                           lmaoo glad know one people wa meaning   \n",
              "3062                                                                liberal defend islam yet know little nothing ideology middle eastern christian pay close attention muslim people   \n",
              "\n",
              "      label  \n",
              "9187    NOT  \n",
              "5602    OFF  \n",
              "11520   NOT  \n",
              "3110    NOT  \n",
              "3062    NOT  "
            ],
            "text/html": [
              "\n",
              "  <div id=\"df-513d25fc-5409-4d48-bbde-176ec013f816\">\n",
              "    <div class=\"colab-df-container\">\n",
              "      <div>\n",
              "<style scoped>\n",
              "    .dataframe tbody tr th:only-of-type {\n",
              "        vertical-align: middle;\n",
              "    }\n",
              "\n",
              "    .dataframe tbody tr th {\n",
              "        vertical-align: top;\n",
              "    }\n",
              "\n",
              "    .dataframe thead th {\n",
              "        text-align: right;\n",
              "    }\n",
              "</style>\n",
              "<table border=\"1\" class=\"dataframe\">\n",
              "  <thead>\n",
              "    <tr style=\"text-align: right;\">\n",
              "      <th></th>\n",
              "      <th>tweet</th>\n",
              "      <th>label</th>\n",
              "    </tr>\n",
              "  </thead>\n",
              "  <tbody>\n",
              "    <tr>\n",
              "      <th>9187</th>\n",
              "      <td>political zealotry amp tribalism new religion america ha problem contributing iturl partisanship tcot conservative conservative gop democrat progressive liberal think reason</td>\n",
              "      <td>NOT</td>\n",
              "    </tr>\n",
              "    <tr>\n",
              "      <th>5602</th>\n",
              "      <td>moore got elected liberal never learn unlikable trump</td>\n",
              "      <td>OFF</td>\n",
              "    </tr>\n",
              "    <tr>\n",
              "      <th>11520</th>\n",
              "      <td>gun safety reform exactly doe mean mean gun control</td>\n",
              "      <td>NOT</td>\n",
              "    </tr>\n",
              "    <tr>\n",
              "      <th>3110</th>\n",
              "      <td>lmaoo glad know one people wa meaning</td>\n",
              "      <td>NOT</td>\n",
              "    </tr>\n",
              "    <tr>\n",
              "      <th>3062</th>\n",
              "      <td>liberal defend islam yet know little nothing ideology middle eastern christian pay close attention muslim people</td>\n",
              "      <td>NOT</td>\n",
              "    </tr>\n",
              "  </tbody>\n",
              "</table>\n",
              "</div>\n",
              "      <button class=\"colab-df-convert\" onclick=\"convertToInteractive('df-513d25fc-5409-4d48-bbde-176ec013f816')\"\n",
              "              title=\"Convert this dataframe to an interactive table.\"\n",
              "              style=\"display:none;\">\n",
              "        \n",
              "  <svg xmlns=\"http://www.w3.org/2000/svg\" height=\"24px\"viewBox=\"0 0 24 24\"\n",
              "       width=\"24px\">\n",
              "    <path d=\"M0 0h24v24H0V0z\" fill=\"none\"/>\n",
              "    <path d=\"M18.56 5.44l.94 2.06.94-2.06 2.06-.94-2.06-.94-.94-2.06-.94 2.06-2.06.94zm-11 1L8.5 8.5l.94-2.06 2.06-.94-2.06-.94L8.5 2.5l-.94 2.06-2.06.94zm10 10l.94 2.06.94-2.06 2.06-.94-2.06-.94-.94-2.06-.94 2.06-2.06.94z\"/><path d=\"M17.41 7.96l-1.37-1.37c-.4-.4-.92-.59-1.43-.59-.52 0-1.04.2-1.43.59L10.3 9.45l-7.72 7.72c-.78.78-.78 2.05 0 2.83L4 21.41c.39.39.9.59 1.41.59.51 0 1.02-.2 1.41-.59l7.78-7.78 2.81-2.81c.8-.78.8-2.07 0-2.86zM5.41 20L4 18.59l7.72-7.72 1.47 1.35L5.41 20z\"/>\n",
              "  </svg>\n",
              "      </button>\n",
              "      \n",
              "  <style>\n",
              "    .colab-df-container {\n",
              "      display:flex;\n",
              "      flex-wrap:wrap;\n",
              "      gap: 12px;\n",
              "    }\n",
              "\n",
              "    .colab-df-convert {\n",
              "      background-color: #E8F0FE;\n",
              "      border: none;\n",
              "      border-radius: 50%;\n",
              "      cursor: pointer;\n",
              "      display: none;\n",
              "      fill: #1967D2;\n",
              "      height: 32px;\n",
              "      padding: 0 0 0 0;\n",
              "      width: 32px;\n",
              "    }\n",
              "\n",
              "    .colab-df-convert:hover {\n",
              "      background-color: #E2EBFA;\n",
              "      box-shadow: 0px 1px 2px rgba(60, 64, 67, 0.3), 0px 1px 3px 1px rgba(60, 64, 67, 0.15);\n",
              "      fill: #174EA6;\n",
              "    }\n",
              "\n",
              "    [theme=dark] .colab-df-convert {\n",
              "      background-color: #3B4455;\n",
              "      fill: #D2E3FC;\n",
              "    }\n",
              "\n",
              "    [theme=dark] .colab-df-convert:hover {\n",
              "      background-color: #434B5C;\n",
              "      box-shadow: 0px 1px 3px 1px rgba(0, 0, 0, 0.15);\n",
              "      filter: drop-shadow(0px 1px 2px rgba(0, 0, 0, 0.3));\n",
              "      fill: #FFFFFF;\n",
              "    }\n",
              "  </style>\n",
              "\n",
              "      <script>\n",
              "        const buttonEl =\n",
              "          document.querySelector('#df-513d25fc-5409-4d48-bbde-176ec013f816 button.colab-df-convert');\n",
              "        buttonEl.style.display =\n",
              "          google.colab.kernel.accessAllowed ? 'block' : 'none';\n",
              "\n",
              "        async function convertToInteractive(key) {\n",
              "          const element = document.querySelector('#df-513d25fc-5409-4d48-bbde-176ec013f816');\n",
              "          const dataTable =\n",
              "            await google.colab.kernel.invokeFunction('convertToInteractive',\n",
              "                                                     [key], {});\n",
              "          if (!dataTable) return;\n",
              "\n",
              "          const docLinkHtml = 'Like what you see? Visit the ' +\n",
              "            '<a target=\"_blank\" href=https://colab.research.google.com/notebooks/data_table.ipynb>data table notebook</a>'\n",
              "            + ' to learn more about interactive tables.';\n",
              "          element.innerHTML = '';\n",
              "          dataTable['output_type'] = 'display_data';\n",
              "          await google.colab.output.renderOutput(dataTable, element);\n",
              "          const docLink = document.createElement('div');\n",
              "          docLink.innerHTML = docLinkHtml;\n",
              "          element.appendChild(docLink);\n",
              "        }\n",
              "      </script>\n",
              "    </div>\n",
              "  </div>\n",
              "  "
            ]
          },
          "metadata": {},
          "execution_count": 8
        }
      ]
    },
    {
      "cell_type": "markdown",
      "source": [
        "# Enocode the label"
      ],
      "metadata": {
        "id": "PAqeoCug-Ivj"
      }
    },
    {
      "cell_type": "code",
      "source": [
        "from sklearn.preprocessing import LabelEncoder\n",
        "enocder=LabelEncoder()\n",
        "train_df['label']=enocder.fit_transform(train_df['label'])\n",
        "test_df['label']=enocder.transform(test_df['label'])\n"
      ],
      "metadata": {
        "id": "vzUYIsbE9D-Y"
      },
      "execution_count": null,
      "outputs": []
    },
    {
      "cell_type": "code",
      "source": [
        "train_df.head()"
      ],
      "metadata": {
        "colab": {
          "base_uri": "https://localhost:8080/",
          "height": 302
        },
        "id": "EcohYTH8-7Ix",
        "outputId": "d21fba61-a888-4cfa-e0a7-4960bc4cd705"
      },
      "execution_count": null,
      "outputs": [
        {
          "output_type": "execute_result",
          "data": {
            "text/plain": [
              "                                                                                                                                                                               tweet  \\\n",
              "9187   political zealotry amp tribalism new religion america ha problem contributing iturl partisanship tcot conservative conservative gop democrat progressive liberal think reason   \n",
              "5602                                                                                                                           moore got elected liberal never learn unlikable trump   \n",
              "11520                                                                                                                            gun safety reform exactly doe mean mean gun control   \n",
              "3110                                                                                                                                           lmaoo glad know one people wa meaning   \n",
              "3062                                                                liberal defend islam yet know little nothing ideology middle eastern christian pay close attention muslim people   \n",
              "\n",
              "       label  \n",
              "9187       0  \n",
              "5602       1  \n",
              "11520      0  \n",
              "3110       0  \n",
              "3062       0  "
            ],
            "text/html": [
              "\n",
              "  <div id=\"df-5137b3f8-e209-41b0-b957-ac4a183ee815\">\n",
              "    <div class=\"colab-df-container\">\n",
              "      <div>\n",
              "<style scoped>\n",
              "    .dataframe tbody tr th:only-of-type {\n",
              "        vertical-align: middle;\n",
              "    }\n",
              "\n",
              "    .dataframe tbody tr th {\n",
              "        vertical-align: top;\n",
              "    }\n",
              "\n",
              "    .dataframe thead th {\n",
              "        text-align: right;\n",
              "    }\n",
              "</style>\n",
              "<table border=\"1\" class=\"dataframe\">\n",
              "  <thead>\n",
              "    <tr style=\"text-align: right;\">\n",
              "      <th></th>\n",
              "      <th>tweet</th>\n",
              "      <th>label</th>\n",
              "    </tr>\n",
              "  </thead>\n",
              "  <tbody>\n",
              "    <tr>\n",
              "      <th>9187</th>\n",
              "      <td>political zealotry amp tribalism new religion america ha problem contributing iturl partisanship tcot conservative conservative gop democrat progressive liberal think reason</td>\n",
              "      <td>0</td>\n",
              "    </tr>\n",
              "    <tr>\n",
              "      <th>5602</th>\n",
              "      <td>moore got elected liberal never learn unlikable trump</td>\n",
              "      <td>1</td>\n",
              "    </tr>\n",
              "    <tr>\n",
              "      <th>11520</th>\n",
              "      <td>gun safety reform exactly doe mean mean gun control</td>\n",
              "      <td>0</td>\n",
              "    </tr>\n",
              "    <tr>\n",
              "      <th>3110</th>\n",
              "      <td>lmaoo glad know one people wa meaning</td>\n",
              "      <td>0</td>\n",
              "    </tr>\n",
              "    <tr>\n",
              "      <th>3062</th>\n",
              "      <td>liberal defend islam yet know little nothing ideology middle eastern christian pay close attention muslim people</td>\n",
              "      <td>0</td>\n",
              "    </tr>\n",
              "  </tbody>\n",
              "</table>\n",
              "</div>\n",
              "      <button class=\"colab-df-convert\" onclick=\"convertToInteractive('df-5137b3f8-e209-41b0-b957-ac4a183ee815')\"\n",
              "              title=\"Convert this dataframe to an interactive table.\"\n",
              "              style=\"display:none;\">\n",
              "        \n",
              "  <svg xmlns=\"http://www.w3.org/2000/svg\" height=\"24px\"viewBox=\"0 0 24 24\"\n",
              "       width=\"24px\">\n",
              "    <path d=\"M0 0h24v24H0V0z\" fill=\"none\"/>\n",
              "    <path d=\"M18.56 5.44l.94 2.06.94-2.06 2.06-.94-2.06-.94-.94-2.06-.94 2.06-2.06.94zm-11 1L8.5 8.5l.94-2.06 2.06-.94-2.06-.94L8.5 2.5l-.94 2.06-2.06.94zm10 10l.94 2.06.94-2.06 2.06-.94-2.06-.94-.94-2.06-.94 2.06-2.06.94z\"/><path d=\"M17.41 7.96l-1.37-1.37c-.4-.4-.92-.59-1.43-.59-.52 0-1.04.2-1.43.59L10.3 9.45l-7.72 7.72c-.78.78-.78 2.05 0 2.83L4 21.41c.39.39.9.59 1.41.59.51 0 1.02-.2 1.41-.59l7.78-7.78 2.81-2.81c.8-.78.8-2.07 0-2.86zM5.41 20L4 18.59l7.72-7.72 1.47 1.35L5.41 20z\"/>\n",
              "  </svg>\n",
              "      </button>\n",
              "      \n",
              "  <style>\n",
              "    .colab-df-container {\n",
              "      display:flex;\n",
              "      flex-wrap:wrap;\n",
              "      gap: 12px;\n",
              "    }\n",
              "\n",
              "    .colab-df-convert {\n",
              "      background-color: #E8F0FE;\n",
              "      border: none;\n",
              "      border-radius: 50%;\n",
              "      cursor: pointer;\n",
              "      display: none;\n",
              "      fill: #1967D2;\n",
              "      height: 32px;\n",
              "      padding: 0 0 0 0;\n",
              "      width: 32px;\n",
              "    }\n",
              "\n",
              "    .colab-df-convert:hover {\n",
              "      background-color: #E2EBFA;\n",
              "      box-shadow: 0px 1px 2px rgba(60, 64, 67, 0.3), 0px 1px 3px 1px rgba(60, 64, 67, 0.15);\n",
              "      fill: #174EA6;\n",
              "    }\n",
              "\n",
              "    [theme=dark] .colab-df-convert {\n",
              "      background-color: #3B4455;\n",
              "      fill: #D2E3FC;\n",
              "    }\n",
              "\n",
              "    [theme=dark] .colab-df-convert:hover {\n",
              "      background-color: #434B5C;\n",
              "      box-shadow: 0px 1px 3px 1px rgba(0, 0, 0, 0.15);\n",
              "      filter: drop-shadow(0px 1px 2px rgba(0, 0, 0, 0.3));\n",
              "      fill: #FFFFFF;\n",
              "    }\n",
              "  </style>\n",
              "\n",
              "      <script>\n",
              "        const buttonEl =\n",
              "          document.querySelector('#df-5137b3f8-e209-41b0-b957-ac4a183ee815 button.colab-df-convert');\n",
              "        buttonEl.style.display =\n",
              "          google.colab.kernel.accessAllowed ? 'block' : 'none';\n",
              "\n",
              "        async function convertToInteractive(key) {\n",
              "          const element = document.querySelector('#df-5137b3f8-e209-41b0-b957-ac4a183ee815');\n",
              "          const dataTable =\n",
              "            await google.colab.kernel.invokeFunction('convertToInteractive',\n",
              "                                                     [key], {});\n",
              "          if (!dataTable) return;\n",
              "\n",
              "          const docLinkHtml = 'Like what you see? Visit the ' +\n",
              "            '<a target=\"_blank\" href=https://colab.research.google.com/notebooks/data_table.ipynb>data table notebook</a>'\n",
              "            + ' to learn more about interactive tables.';\n",
              "          element.innerHTML = '';\n",
              "          dataTable['output_type'] = 'display_data';\n",
              "          await google.colab.output.renderOutput(dataTable, element);\n",
              "          const docLink = document.createElement('div');\n",
              "          docLink.innerHTML = docLinkHtml;\n",
              "          element.appendChild(docLink);\n",
              "        }\n",
              "      </script>\n",
              "    </div>\n",
              "  </div>\n",
              "  "
            ]
          },
          "metadata": {},
          "execution_count": 10
        }
      ]
    },
    {
      "cell_type": "code",
      "source": [
        "train_df.label.value_counts()"
      ],
      "metadata": {
        "colab": {
          "base_uri": "https://localhost:8080/"
        },
        "id": "BLJBTQAw_yH6",
        "outputId": "3d373d19-6282-4367-f98d-e34e53176814"
      },
      "execution_count": null,
      "outputs": [
        {
          "output_type": "execute_result",
          "data": {
            "text/plain": [
              "0    7041\n",
              "1    3551\n",
              "Name: label, dtype: int64"
            ]
          },
          "metadata": {},
          "execution_count": 11
        }
      ]
    },
    {
      "cell_type": "markdown",
      "source": [
        "# Model training\n"
      ],
      "metadata": {
        "id": "muJ_48he_YYl"
      }
    },
    {
      "cell_type": "markdown",
      "source": [
        "## create class weights"
      ],
      "metadata": {
        "id": "5aViIDKL_8Jz"
      }
    },
    {
      "cell_type": "code",
      "source": [
        "np.unique(train_df.label)"
      ],
      "metadata": {
        "colab": {
          "base_uri": "https://localhost:8080/"
        },
        "id": "jzvO0hflemr1",
        "outputId": "62eb97a1-78d1-4edb-9674-283533585d24"
      },
      "execution_count": null,
      "outputs": [
        {
          "output_type": "execute_result",
          "data": {
            "text/plain": [
              "array([0, 1])"
            ]
          },
          "metadata": {},
          "execution_count": 15
        }
      ]
    },
    {
      "cell_type": "code",
      "source": [
        "from sklearn.utils import class_weight\n",
        "import numpy as np\n",
        "class_weights = class_weight.compute_class_weight('balanced',classes=np.unique(train_df.label),y=train_df.label.to_numpy())\n",
        "class_weights=dict(enumerate(class_weights))\n",
        "class_weights"
      ],
      "metadata": {
        "colab": {
          "base_uri": "https://localhost:8080/"
        },
        "id": "oGbUImPw_1cO",
        "outputId": "3e41d924-041a-4258-dd2a-8240e63f0769"
      },
      "execution_count": null,
      "outputs": [
        {
          "output_type": "execute_result",
          "data": {
            "text/plain": [
              "{0: 0.7521658855276239, 1: 1.491410870177415}"
            ]
          },
          "metadata": {},
          "execution_count": 14
        }
      ]
    },
    {
      "cell_type": "markdown",
      "source": [
        "## hyper-parameter tuning"
      ],
      "metadata": {
        "id": "cilKo0M_C1nh"
      }
    },
    {
      "cell_type": "code",
      "source": [
        "from sklearn.model_selection import GridSearchCV\n",
        "from sklearn.linear_model import LogisticRegression\n",
        "from sklearn.pipeline import make_pipeline\n",
        "from sklearn.feature_extraction.text import CountVectorizer\n",
        "\n",
        "def logistic_param_selection(train_df):\n",
        "    C= [1,3,5,7,8,9,10,12,15,20,25]\n",
        "    # solver=['newton-cg', 'lbfgs', 'liblinear', 'sag', 'saga']\n",
        "    grid ={'logisticregression__C':C}\n",
        "    vectorizer=CountVectorizer()\n",
        "    clf=LogisticRegression(solver='lbfgs',max_iter=500,class_weight=class_weights)\n",
        "\n",
        "    pipeline=make_pipeline(vectorizer, clf)\n",
        "    grid_search = GridSearchCV(pipeline,param_grid=grid, cv=5,scoring='f1_macro')\n",
        "    grid_search.fit(train_df.tweet, train_df.label)\n",
        " \n",
        "    return grid_search.best_score_, grid_search.best_params_"
      ],
      "metadata": {
        "id": "GbeOec_y_KzD"
      },
      "execution_count": null,
      "outputs": []
    },
    {
      "cell_type": "code",
      "source": [
        "cv_score,tuned_parameters=logistic_param_selection(train_df)\n"
      ],
      "metadata": {
        "id": "vTRNmgsS_bM9"
      },
      "execution_count": null,
      "outputs": []
    },
    {
      "cell_type": "code",
      "source": [
        "print('5 fold score',cv_score)\n",
        "print('tuned parameter',tuned_parameters)\n"
      ],
      "metadata": {
        "colab": {
          "base_uri": "https://localhost:8080/"
        },
        "id": "HeFdSuBEBb_m",
        "outputId": "bff5d06c-f290-4101-fdf2-51264e869abe"
      },
      "execution_count": null,
      "outputs": [
        {
          "output_type": "stream",
          "name": "stdout",
          "text": [
            "5 fold score 0.7077318813930411\n",
            "tuned parameter {'logisticregression__C': 1}\n"
          ]
        }
      ]
    },
    {
      "cell_type": "markdown",
      "source": [
        "## train and test model"
      ],
      "metadata": {
        "id": "_ENFkYutC5-n"
      }
    },
    {
      "cell_type": "code",
      "source": [
        "tuned_parameters['logisticregression__C']"
      ],
      "metadata": {
        "colab": {
          "base_uri": "https://localhost:8080/"
        },
        "id": "WuDVSkpFgdZJ",
        "outputId": "5a4f045d-b72a-4659-e0fd-47884be096ea"
      },
      "execution_count": null,
      "outputs": [
        {
          "output_type": "execute_result",
          "data": {
            "text/plain": [
              "1"
            ]
          },
          "metadata": {},
          "execution_count": 19
        }
      ]
    },
    {
      "cell_type": "code",
      "source": [
        "classifier = LogisticRegression(solver='lbfgs',C=tuned_parameters['logisticregression__C'],max_iter=500,class_weight=class_weights)\n",
        "vectorizer=CountVectorizer()\n",
        "train_vector=vectorizer.fit_transform(train_df.tweet)\n",
        "test_vector=vectorizer.transform(test_df.tweet)"
      ],
      "metadata": {
        "id": "C3Fnuu9aDcIG"
      },
      "execution_count": null,
      "outputs": []
    },
    {
      "cell_type": "code",
      "source": [
        "classifier.fit(train_vector, train_df.label)\n",
        "y_pred=classifier.predict(test_vector)"
      ],
      "metadata": {
        "id": "RMCw4FE6CiWf"
      },
      "execution_count": null,
      "outputs": []
    },
    {
      "cell_type": "code",
      "source": [
        "from sklearn.metrics import classification_report\n",
        "print(classification_report(test_df.label,y_pred))"
      ],
      "metadata": {
        "colab": {
          "base_uri": "https://localhost:8080/"
        },
        "id": "tOtKx2oIDGEC",
        "outputId": "618f2dc8-66b5-41a0-84cb-afa2ebff170e"
      },
      "execution_count": null,
      "outputs": [
        {
          "output_type": "stream",
          "name": "stdout",
          "text": [
            "              precision    recall  f1-score   support\n",
            "\n",
            "           0       0.81      0.83      0.82      1799\n",
            "           1       0.61      0.58      0.60       849\n",
            "\n",
            "    accuracy                           0.75      2648\n",
            "   macro avg       0.71      0.71      0.71      2648\n",
            "weighted avg       0.75      0.75      0.75      2648\n",
            "\n"
          ]
        }
      ]
    },
    {
      "cell_type": "markdown",
      "source": [
        "# save model in pickle format"
      ],
      "metadata": {
        "id": "0ZbolDVhEBIT"
      }
    },
    {
      "cell_type": "code",
      "source": [
        "import pickle\n",
        "import os\n",
        "if not os.path.exists('models'):\n",
        "  os.mkdir('models')\n",
        "\n",
        "#save classifier\n",
        "with open(\"models/logisticregression.pkl\", 'wb') as file:\n",
        "    pickle.dump(classifier, file)\n",
        "\n",
        "#save vectorizer\n",
        "with open(\"models/countvectorizer.pkl\", 'wb') as file:\n",
        "    pickle.dump(vectorizer, file)\n",
        "\n",
        "#save encoder\n",
        "with open(\"models/labelencoder.pkl\", 'wb') as file:\n",
        "    pickle.dump(enocder, file)"
      ],
      "metadata": {
        "id": "O0MCVmoWDMJC"
      },
      "execution_count": null,
      "outputs": []
    },
    {
      "cell_type": "markdown",
      "source": [
        "# Inference"
      ],
      "metadata": {
        "id": "U-cyW0NrGeU2"
      }
    },
    {
      "cell_type": "markdown",
      "source": [
        "## load saved pkl files"
      ],
      "metadata": {
        "id": "KjF39yQaFLHx"
      }
    },
    {
      "cell_type": "code",
      "source": [
        "import pickle\n",
        "# Load the saved model\n",
        "with open(\"models/logisticregression.pkl\", 'rb') as file:\n",
        "    classifier = pickle.load(file)\n",
        "\n",
        "# Load the saved vectorizer\n",
        "with open(\"models/countvectorizer.pkl\", 'rb') as file:\n",
        "    vectorizer = pickle.load(file)\n",
        "\n",
        "# Load the saved encoder\n",
        "with open(\"models/labelencoder.pkl\", 'rb') as file:\n",
        "    encoder = pickle.load(file)"
      ],
      "metadata": {
        "id": "yw4QwoULFFw0"
      },
      "execution_count": null,
      "outputs": []
    },
    {
      "cell_type": "markdown",
      "source": [
        "## preprocess"
      ],
      "metadata": {
        "id": "lOF8JHclGh1d"
      }
    },
    {
      "cell_type": "code",
      "source": [
        "import nltk\n",
        "from nltk.corpus import stopwords\n",
        "from nltk.stem import WordNetLemmatizer\n",
        "import os\n",
        "if not os.path.exists('nltkdata'):\n",
        "  os.mkdir('nltkdata')\n",
        "  nltk.download('wordnet',download_dir='nltkdata')\n",
        "  nltk.download('stopwords',download_dir='nltkdata')\n",
        "  nltk.download('omw-1.4',download_dir='nltkdata')\n",
        "\n",
        "nltk.data.path.append(\"nltkdata\")\n",
        "\n",
        "lemmatizer = WordNetLemmatizer()\n",
        "w_tokenizer = nltk.tokenize.WhitespaceTokenizer()\n",
        "stop = stopwords.words('english')\n"
      ],
      "metadata": {
        "colab": {
          "base_uri": "https://localhost:8080/"
        },
        "id": "4C5vCtBiGnjY",
        "outputId": "deea34f5-b00e-432b-ab8f-de2a1c6643f1"
      },
      "execution_count": null,
      "outputs": [
        {
          "output_type": "stream",
          "name": "stderr",
          "text": [
            "[nltk_data] Downloading package wordnet to nltkdata...\n",
            "[nltk_data] Downloading package stopwords to nltkdata...\n",
            "[nltk_data]   Unzipping corpora/stopwords.zip.\n",
            "[nltk_data] Downloading package omw-1.4 to nltkdata...\n"
          ]
        }
      ]
    },
    {
      "cell_type": "code",
      "source": [
        "import re\n",
        "import string\n",
        "def preprocessing(text):\n",
        "  #apply preprocessing\n",
        "  text=text.lower()\n",
        "  text=re.sub('\\d+', '',text)\n",
        "  text=re.sub('@user', '',text)\n",
        "  text=re.sub('http[s]?://(?:[a-zA-Z]|[0-9]|[$-_@.&+]|'\n",
        "          '[!*\\(\\),]|(?:%[0-9a-fA-F][0-9a-fA-F]))+', '',text)\n",
        "  \n",
        "  text=text.translate(str.maketrans('', '', string.punctuation))\n",
        "  text=re.sub('[^\\w\\s]', '',text)\n",
        "\n",
        "  text=[lemmatizer.lemmatize(y) for y in w_tokenizer.tokenize(text)]\n",
        "  text=[item for item in text if item not in stop]\n",
        "  text= \" \".join(text)\n",
        "  return text"
      ],
      "metadata": {
        "id": "odnEdH6oFZse"
      },
      "execution_count": null,
      "outputs": []
    },
    {
      "cell_type": "markdown",
      "source": [
        "## predict"
      ],
      "metadata": {
        "id": "c4il9hzCHMni"
      }
    },
    {
      "cell_type": "code",
      "source": [
        "def predict_result(text):\n",
        "  text=preprocessing(text)\n",
        "  vect=vectorizer.transform([text])\n",
        "  pred=classifier.predict(vect)\n",
        "  result=encoder.inverse_transform(pred)\n",
        "  return result[0]\n"
      ],
      "metadata": {
        "id": "8TaeHeCJHNiV"
      },
      "execution_count": null,
      "outputs": []
    },
    {
      "cell_type": "code",
      "source": [
        "text='Hello, you better to shut your mouth'\n",
        "predict_result(text)"
      ],
      "metadata": {
        "colab": {
          "base_uri": "https://localhost:8080/",
          "height": 35
        },
        "id": "wZGxT8ROH_M6",
        "outputId": "d14bdf23-b176-43bd-df12-7b5e24d9d790"
      },
      "execution_count": null,
      "outputs": [
        {
          "output_type": "execute_result",
          "data": {
            "text/plain": [
              "'OFF'"
            ],
            "application/vnd.google.colaboratory.intrinsic+json": {
              "type": "string"
            }
          },
          "metadata": {},
          "execution_count": 7
        }
      ]
    },
    {
      "cell_type": "code",
      "source": [
        "text='Hello, how are you'\n",
        "predict_result(text)"
      ],
      "metadata": {
        "colab": {
          "base_uri": "https://localhost:8080/",
          "height": 35
        },
        "id": "Db-yBW87IGvz",
        "outputId": "dc78cb0e-0f85-4d2c-8a54-fead6c17bae2"
      },
      "execution_count": null,
      "outputs": [
        {
          "output_type": "execute_result",
          "data": {
            "text/plain": [
              "'NOT'"
            ],
            "application/vnd.google.colaboratory.intrinsic+json": {
              "type": "string"
            }
          },
          "metadata": {},
          "execution_count": 8
        }
      ]
    },
    {
      "cell_type": "markdown",
      "source": [
        "# sys argument"
      ],
      "metadata": {
        "id": "y_PRL0O8NKZm"
      }
    },
    {
      "cell_type": "code",
      "source": [
        "%%writefile app.py\n",
        "import sys\n",
        "import pickle\n",
        "# Load the saved model\n",
        "with open(\"models/logisticregression.pkl\", 'rb') as file:\n",
        "    classifier = pickle.load(file)\n",
        "\n",
        "# Load the saved vectorizer\n",
        "with open(\"models/countvectorizer.pkl\", 'rb') as file:\n",
        "    vectorizer = pickle.load(file)\n",
        "\n",
        "# Load the saved encoder\n",
        "with open(\"models/labelencoder.pkl\", 'rb') as file:\n",
        "    encoder = pickle.load(file)\n",
        "\n",
        "import nltk\n",
        "from nltk.corpus import stopwords\n",
        "from nltk.stem import WordNetLemmatizer\n",
        "import os\n",
        "if not os.path.exists('nltkdata'):\n",
        "  os.mkdir('nltkdata')\n",
        "  nltk.download('wordnet',download_dir='nltkdata')\n",
        "  nltk.download('stopwords',download_dir='nltkdata')\n",
        "  nltk.download('omw-1.4',download_dir='nltkdata')\n",
        "\n",
        "nltk.data.path.append(\"nltkdata\")\n",
        "\n",
        "lemmatizer = WordNetLemmatizer()\n",
        "w_tokenizer = nltk.tokenize.WhitespaceTokenizer()\n",
        "stop = stopwords.words('english')\n",
        "\n",
        "import re\n",
        "import string\n",
        "def preprocessing(text):\n",
        "  #apply preprocessing\n",
        "  text=text.lower()\n",
        "  text=re.sub('\\d+', '',text)\n",
        "  text=re.sub('@user', '',text)\n",
        "  text=re.sub('http[s]?://(?:[a-zA-Z]|[0-9]|[$-_@.&+]|'\n",
        "          '[!*\\(\\),]|(?:%[0-9a-fA-F][0-9a-fA-F]))+', '',text)\n",
        "  \n",
        "  text=text.translate(str.maketrans('', '', string.punctuation))\n",
        "  text=re.sub('[^\\w\\s]', '',text)\n",
        "\n",
        "  text=[lemmatizer.lemmatize(y) for y in w_tokenizer.tokenize(text)]\n",
        "  text=[item for item in text if item not in stop]\n",
        "  text= \" \".join(text)\n",
        "  return text\n",
        "\n",
        "def predict_result(text):\n",
        "  text=preprocessing(text)\n",
        "  vect=vectorizer.transform([text])\n",
        "  pred=classifier.predict(vect)\n",
        "  result=encoder.inverse_transform(pred)\n",
        "  return result[0]\n",
        "\n",
        "text=sys.argv[1]\n",
        "pred=predict_result(text)\n",
        "print('prediction of \"{}\" is {}'.format(text,pred))"
      ],
      "metadata": {
        "colab": {
          "base_uri": "https://localhost:8080/"
        },
        "id": "R0IeHFu3L3CE",
        "outputId": "1ecc62f3-777f-43bd-f9ba-a8453d300e82"
      },
      "execution_count": null,
      "outputs": [
        {
          "output_type": "stream",
          "name": "stdout",
          "text": [
            "Writing app.py\n"
          ]
        }
      ]
    },
    {
      "cell_type": "code",
      "source": [
        "!python app.py \"Hello, you better to shut your mouth\""
      ],
      "metadata": {
        "colab": {
          "base_uri": "https://localhost:8080/"
        },
        "id": "n2mH4-cQNZQ6",
        "outputId": "80bf94ed-13cd-4b53-aacd-b9c0126fe1bd"
      },
      "execution_count": null,
      "outputs": [
        {
          "output_type": "stream",
          "name": "stdout",
          "text": [
            "prediction of \"Hello, you better to shut your mouth\" is OFF\n"
          ]
        }
      ]
    },
    {
      "cell_type": "code",
      "source": [
        "!zip -r  models.zip /content/models\n",
        "!zip -r  nltkdata.zip /content/nltkdata"
      ],
      "metadata": {
        "id": "-IS_YnQcTUoq",
        "colab": {
          "base_uri": "https://localhost:8080/"
        },
        "outputId": "d7f123cf-9a97-4126-8bde-8d5aa063f53f"
      },
      "execution_count": null,
      "outputs": [
        {
          "output_type": "stream",
          "name": "stdout",
          "text": [
            "  adding: content/models/ (stored 0%)\n",
            "  adding: content/models/labelencoder.pkl (deflated 16%)\n",
            "  adding: content/models/logisticregression.pkl (deflated 15%)\n",
            "  adding: content/models/countvectorizer.pkl (deflated 48%)\n",
            "  adding: content/nltkdata/ (stored 0%)\n",
            "  adding: content/nltkdata/corpora/ (stored 0%)\n",
            "  adding: content/nltkdata/corpora/wordnet.zip (stored 0%)\n",
            "  adding: content/nltkdata/corpora/omw-1.4.zip (stored 0%)\n",
            "  adding: content/nltkdata/corpora/stopwords/ (stored 0%)\n",
            "  adding: content/nltkdata/corpora/stopwords/azerbaijani (deflated 48%)\n",
            "  adding: content/nltkdata/corpora/stopwords/slovene (deflated 72%)\n",
            "  adding: content/nltkdata/corpora/stopwords/german (deflated 61%)\n",
            "  adding: content/nltkdata/corpora/stopwords/english (deflated 54%)\n",
            "  adding: content/nltkdata/corpora/stopwords/greek (deflated 64%)\n",
            "  adding: content/nltkdata/corpora/stopwords/nepali (deflated 71%)\n",
            "  adding: content/nltkdata/corpora/stopwords/chinese (deflated 51%)\n",
            "  adding: content/nltkdata/corpora/stopwords/hungarian (deflated 51%)\n",
            "  adding: content/nltkdata/corpora/stopwords/portuguese (deflated 61%)\n",
            "  adding: content/nltkdata/corpora/stopwords/norwegian (deflated 49%)\n",
            "  adding: content/nltkdata/corpora/stopwords/russian (deflated 58%)\n",
            "  adding: content/nltkdata/corpora/stopwords/README (deflated 59%)\n",
            "  adding: content/nltkdata/corpora/stopwords/catalan (deflated 55%)\n",
            "  adding: content/nltkdata/corpora/stopwords/bengali (deflated 75%)\n",
            "  adding: content/nltkdata/corpora/stopwords/kazakh (deflated 70%)\n",
            "  adding: content/nltkdata/corpora/stopwords/arabic (deflated 64%)\n",
            "  adding: content/nltkdata/corpora/stopwords/hebrew (deflated 66%)\n",
            "  adding: content/nltkdata/corpora/stopwords/danish (deflated 43%)\n",
            "  adding: content/nltkdata/corpora/stopwords/turkish (deflated 38%)\n",
            "  adding: content/nltkdata/corpora/stopwords/hinglish (deflated 58%)\n",
            "  adding: content/nltkdata/corpora/stopwords/italian (deflated 62%)\n",
            "  adding: content/nltkdata/corpora/stopwords/romanian (deflated 57%)\n",
            "  adding: content/nltkdata/corpora/stopwords/dutch (deflated 44%)\n",
            "  adding: content/nltkdata/corpora/stopwords/finnish (deflated 65%)\n",
            "  adding: content/nltkdata/corpora/stopwords/french (deflated 56%)\n",
            "  adding: content/nltkdata/corpora/stopwords/tajik (deflated 62%)\n",
            "  adding: content/nltkdata/corpora/stopwords/swedish (deflated 45%)\n",
            "  adding: content/nltkdata/corpora/stopwords/indonesian (deflated 67%)\n",
            "  adding: content/nltkdata/corpora/stopwords/spanish (deflated 65%)\n",
            "  adding: content/nltkdata/corpora/stopwords/basque (deflated 66%)\n",
            "  adding: content/nltkdata/corpora/stopwords.zip (stored 0%)\n"
          ]
        }
      ]
    },
    {
      "cell_type": "code",
      "source": [],
      "metadata": {
        "id": "6Oso3SAHkizV"
      },
      "execution_count": null,
      "outputs": []
    }
  ]
}